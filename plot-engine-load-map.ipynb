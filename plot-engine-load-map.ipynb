{
 "cells": [
  {
   "cell_type": "code",
   "execution_count": null,
   "metadata": {},
   "outputs": [],
   "source": [
    "# import pandas and read in isobus log from a field\n",
    "import pandas as pd\n",
    "\n",
    "# specify url for combine ISOBUS file\n",
    "url = \"http://cloudradio39.ecn.purdue.edu/log/7130-f-14.log\"\n",
    "\n",
    "# we can give column definitions as we load in the file\n",
    "_c = pd.read_csv(url, delimiter=' ', names=['ts', 'pgn', 'src', 'dest', 'pr', 'payload']);\n",
    "_c.head()"
   ]
  },
  {
   "cell_type": "code",
   "execution_count": null,
   "metadata": {},
   "outputs": [],
   "source": [
    "# we don't really need all the columns; to save time and space, we will only need the three columns\n",
    "c = pd.read_csv(url, delimiter=' ', usecols=[0,1,5], names=['ts', 'pgn', 'payload']);\n",
    "c.head()"
   ]
  },
  {
   "cell_type": "code",
   "execution_count": null,
   "metadata": {},
   "outputs": [],
   "source": [
    "# we want to get only the engine load messsages\n",
    "# so we will filter the `pgn` column by pgn number 61443\n",
    "idx = c.index[c['pgn'] == 61443]\n",
    "idx"
   ]
  },
  {
   "cell_type": "code",
   "execution_count": null,
   "metadata": {},
   "outputs": [],
   "source": [
    "# now we will only take out the rows with indices we found\n",
    "c_ = c.loc[idx]\n",
    "c_.head()"
   ]
  },
  {
   "cell_type": "code",
   "execution_count": null,
   "metadata": {},
   "outputs": [],
   "source": [
    "# remove extra index column\n",
    "c_ = c_.reset_index().drop(columns=['index'])"
   ]
  },
  {
   "cell_type": "code",
   "execution_count": null,
   "metadata": {},
   "outputs": [],
   "source": [
    "# now we want to create another column that contains only the 3rd byte which encodes the engine load value\n",
    "c_['engine_load_hex']=c_.payload.str.slice(start=4, stop=6)\n",
    "c_.head()"
   ]
  },
  {
   "cell_type": "code",
   "execution_count": null,
   "metadata": {},
   "outputs": [],
   "source": [
    "# then we convert the hex value into decimal values and put them into a new column\n",
    "c_['engine_load_percent'] = c_.engine_load_hex.apply(lambda x: int(x, 16))\n",
    "c_.head()"
   ]
  },
  {
   "cell_type": "code",
   "execution_count": null,
   "metadata": {},
   "outputs": [],
   "source": [
    "# the gps csv data only have gps timestamps in seconds\n",
    "# we need the same thing here; that's why we round isobus timestamps to the nearest integers\n",
    "import numpy as np\n",
    "\n",
    "c_['ts_round'] = np.rint(c_.ts)\n",
    "print(c_.ts_round.iat[0], c_.ts.iat[0])\n",
    "c_.head()"
   ]
  },
  {
   "cell_type": "code",
   "execution_count": null,
   "metadata": {},
   "outputs": [],
   "source": [
    "# since the rounded timestamps have duplicates, we need to downsample it\n",
    "# the first step is to compute the engine load average for the same groups of timestamps\n",
    "ts_groups = c_.groupby('ts_round')\n",
    "engine_load_percent_mean = ts_groups.apply(lambda df: df['engine_load_percent'].mean())\n",
    "engine_load_percent_mean"
   ]
  },
  {
   "cell_type": "code",
   "execution_count": null,
   "metadata": {},
   "outputs": [],
   "source": [
    "# sanity check: do we have matching length arrays?\n",
    "len(c_.ts_round.unique())"
   ]
  },
  {
   "cell_type": "code",
   "execution_count": null,
   "metadata": {},
   "outputs": [],
   "source": [
    "# now we can create another data frame that contains the downsampled version of timestamp/engine load pair\n",
    "d = {'gpsTimeSec': c_.ts_round.unique(), 'engine_load': engine_load_percent_mean.values}\n",
    "e = pd.DataFrame(data=d)\n",
    "e"
   ]
  },
  {
   "cell_type": "code",
   "execution_count": null,
   "metadata": {},
   "outputs": [],
   "source": [
    "# now we can read in our gps csv\n",
    "g = pd.read_csv('./data/gps/7130/7130-f-14.csv');\n",
    "g.head()"
   ]
  },
  {
   "cell_type": "code",
   "execution_count": null,
   "metadata": {},
   "outputs": [],
   "source": [
    "# note that the `gpsTime` has a weird notation, we need to preprocess that\n",
    "g['gpsTimeSec'] = g.gpsTime / 1000\n",
    "g.head()"
   ]
  },
  {
   "cell_type": "code",
   "execution_count": null,
   "metadata": {},
   "outputs": [],
   "source": [
    "# merge two data frames by `gpsTimeSec`\n",
    "eg = pd.merge(e, g, on='gpsTimeSec', how='inner')\n",
    "eg.head()"
   ]
  },
  {
   "cell_type": "code",
   "execution_count": null,
   "metadata": {},
   "outputs": [],
   "source": [
    "mapbox_token = open('_mapbox_token').readline().rstrip() # read in the mapbox token from file\n",
    "\n",
    "import plotly.graph_objs as go\n",
    "from plotly.offline import iplot\n",
    "\n",
    "\n",
    "# define the color scale\n",
    "scl = [0,\"rgb(150,0,90)\"],[0.125,\"rgb(0, 0, 200)\"],[0.25,\"rgb(0, 25, 255)\"],\n",
    "[0.375,\"rgb(0, 152, 255)\"],[0.5,\"rgb(44, 255, 150)\"],[0.625,\"rgb(151, 255, 0)\"],\n",
    "[0.75,\"rgb(255, 234, 0)\"],[0.875,\"rgb(255, 111, 0)\"],[1,\"rgb(255, 0, 0)\"]\n",
    "\n",
    "data = []\n",
    "\n",
    "data.append(\n",
    "    go.Scattermapbox(                                                            \n",
    "        lat=eg.lat,                                                              \n",
    "        lon=eg.lon,                                                              \n",
    "        mode='markers',                                                          \n",
    "        marker=go.scattermapbox.Marker(                                          \n",
    "            size=5,                                                              \n",
    "            color=eg.engine_load,\n",
    "            colorscale=scl,                                                      \n",
    "            cmin=0,                                                              \n",
    "            cmax=100,                                                              \n",
    "            opacity=0.7,                                                         \n",
    "            colorbar=dict(                                                       \n",
    "                thickness=20,                                                    \n",
    "                titleside=\"right\",                                               \n",
    "                outlinecolor=\"rgba(68, 68, 68, 0)\",                              \n",
    "                ticks=\"outside\",                                                 \n",
    "                ticklen=3,                                                       \n",
    "                showticksuffix=\"last\",                                           \n",
    "                ticksuffix = \" (%)\",                                           \n",
    "                dtick = 10\n",
    "            )                                                                    \n",
    "        )                                                                        \n",
    "    )                                    \n",
    ")\n",
    "\n",
    "layout = go.Layout(                                                              \n",
    "    title='Engine Load Map',                                     \n",
    "    autosize=True,                                                               \n",
    "    hovermode='closest',                                                         \n",
    "    showlegend=False,                                                            \n",
    "    mapbox=go.layout.Mapbox(                                                     \n",
    "        accesstoken=mapbox_token,\n",
    "        center=go.layout.mapbox.Center( # you can give a center coordinate of the figure\n",
    "            lat=40.774773,                                                       \n",
    "            lon=-102.284607,                                                     \n",
    "        ), \n",
    "        bearing=0,                                                                                                                                 \n",
    "        pitch=0,                                                                 \n",
    "        zoom=9,                                                                 \n",
    "        style='dark'                                                             \n",
    "    )                                                                            \n",
    ")           \n",
    "\n",
    "fig = go.Figure(data=data, layout=layout)\n",
    "iplot(fig)"
   ]
  },
  {
   "cell_type": "code",
   "execution_count": null,
   "metadata": {},
   "outputs": [],
   "source": []
  }
 ],
 "metadata": {
  "kernelspec": {
   "display_name": "Python 3",
   "language": "python",
   "name": "python3"
  },
  "language_info": {
   "codemirror_mode": {
    "name": "ipython",
    "version": 3
   },
   "file_extension": ".py",
   "mimetype": "text/x-python",
   "name": "python",
   "nbconvert_exporter": "python",
   "pygments_lexer": "ipython3",
   "version": "3.7.4"
  }
 },
 "nbformat": 4,
 "nbformat_minor": 2
}
